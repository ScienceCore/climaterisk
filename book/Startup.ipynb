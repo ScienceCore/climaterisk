{
 "cells": [
  {
   "cell_type": "markdown",
   "id": "0bd3591a-1b11-4e2d-8b08-e7509810fb0e",
   "metadata": {
    "jupyter": {
     "source_hidden": false
    }
   },
   "source": [
    "# Using NASA Earthdata Tutorial"
   ]
  },
  {
   "cell_type": "markdown",
   "id": "922cb819-99c6-4176-b9df-4f5f2cf0a84d",
   "metadata": {},
   "source": [
    "+ This [JupyterLab](https://jupyterlab.readthedocs.io/en/stable/index.html) session is being run on a [JupyterHub](https://jupyter.org/hub) maintained by [2i2c](https://2i2c.org/).\n",
    "+ Notebooks & data saved during the Jupyter session are preserved between sessions."
   ]
  },
  {
   "cell_type": "markdown",
   "id": "5709bc00-98a3-485c-bb9e-c580a4c57443",
   "metadata": {
    "jupyter": {
     "source_hidden": false
    }
   },
   "source": [
    "---"
   ]
  },
  {
   "cell_type": "markdown",
   "id": "09cf5844-1466-4c42-a265-b87508e1e97b",
   "metadata": {
    "jupyter": {
     "source_hidden": false
    }
   },
   "source": [
    "## Generating Jupyter notebooks"
   ]
  },
  {
   "cell_type": "markdown",
   "id": "6deff840-df35-4052-bc5b-c11a69a196fb",
   "metadata": {
    "jupyter": {
     "source_hidden": false
    }
   },
   "source": [
    "+ Executing this notebook generates [*Jupyter*](https://jupyter.org/) notebooks from [*MarkDown*](https://www.markdownguide.org/) source files (converted using [*Jupytext*](https://jupytext.readthedocs.io/en/latest/)).\n",
    "+ The noteboooks will be generated in the following folders:\n",
    "    + English: `~/climaterisk/book/en-notebooks`\n",
    "    + Espanol: `~/climaterisk/book/es-notebooks`\n",
    "+ Note: re-executing this notebook will *not* overwrite pre-existing notebooks."
   ]
  },
  {
   "cell_type": "code",
   "execution_count": null,
   "id": "2d288a4c-b3b2-4adb-a0fb-69df3550d043",
   "metadata": {},
   "outputs": [],
   "source": [
    "from pathlib import Path\n",
    "from psutil import subprocess\n",
    "from shlex import split\n",
    "\n",
    "cmd_base = split(\"jupytext --from md --to ipynb\")\n",
    "cmd_test_base = cmd_base + [\"--test-strict\"]\n",
    "\n",
    "# Assume that this notebook is within the 'book' directory\n",
    "BOOK_DIR = Path.cwd()\n",
    "\n",
    "for LOCALE in [\"en\", \"es\"]:\n",
    "  LOCALE_MD, LOCALE_NOTEBOOKS = BOOK_DIR / f\"{LOCALE}-md\", BOOK_DIR / f\"{LOCALE}-notebooks\"\n",
    "  LOCALE_NOTEBOOKS.mkdir(exist_ok=True)\n",
    "  for DIR in LOCALE_MD.glob('0*'):\n",
    "    if not DIR.is_dir(): continue\n",
    "    TARGET_DIR = LOCALE_NOTEBOOKS / DIR.name\n",
    "    TARGET_DIR.mkdir(exist_ok=True)\n",
    "    for SRC in DIR.glob(\"0*.md\"):\n",
    "      TARGET = TARGET_DIR / f\"{SRC.stem}.ipynb\"\n",
    "      # Preserve pre-existing, non-empty notebooks\t       \n",
    "      if (TARGET.exists() and TARGET.stat().st_size > 0):\n",
    "         print(f\"Skipping {LOCALE_NOTEBOOKS.name}/{TARGET_DIR.name}/{TARGET.name}; already exists)\")\n",
    "         continue\n",
    "      cmd = cmd_base + [\"-o\", str(TARGET), str(SRC)]\n",
    "      subprocess.run(cmd)"
   ]
  },
  {
   "cell_type": "markdown",
   "id": "71bd2851-5666-466d-adea-26c7e6093253",
   "metadata": {},
   "source": [
    "---"
   ]
  }
 ],
 "metadata": {
  "kernelspec": {
   "display_name": "Python 3 (ipykernel)",
   "language": "python",
   "name": "python3"
  },
  "language_info": {
   "codemirror_mode": {
    "name": "ipython",
    "version": 3
   },
   "file_extension": ".py",
   "mimetype": "text/x-python",
   "name": "python",
   "nbconvert_exporter": "python",
   "pygments_lexer": "ipython3",
   "version": "3.12.10"
  }
 },
 "nbformat": 4,
 "nbformat_minor": 5
}
